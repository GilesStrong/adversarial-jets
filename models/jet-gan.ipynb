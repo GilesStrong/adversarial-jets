{
 "cells": [
  {
   "cell_type": "code",
   "execution_count": null,
   "metadata": {
    "collapsed": true
   },
   "outputs": [],
   "source": [
    "from glob import glob\n",
    "import numpy as np\n",
    "import matplotlib.pyplot as plt\n",
    "import matplotlib.cm as cm\n",
    "%matplotlib inline"
   ]
  },
  {
   "cell_type": "code",
   "execution_count": null,
   "metadata": {
    "collapsed": false
   },
   "outputs": [],
   "source": [
    "real_jets = np.load('/home/lukedeo/scratch/data/gan/jetimages.npy', mmap_mode='r')\n",
    "ix = range(real_jets.shape[0])\n",
    "np.random.shuffle(ix)\n",
    "real_jets = np.array(real_jets[ix][:50000])"
   ]
  },
  {
   "cell_type": "code",
   "execution_count": null,
   "metadata": {
    "collapsed": false
   },
   "outputs": [],
   "source": [
    "real_images = real_jets['image']\n",
    "real_labels = real_jets['signal']"
   ]
  },
  {
   "cell_type": "code",
   "execution_count": null,
   "metadata": {
    "collapsed": false
   },
   "outputs": [],
   "source": [
    "from adversarial_jets import build_generator"
   ]
  },
  {
   "cell_type": "code",
   "execution_count": null,
   "metadata": {
    "collapsed": false
   },
   "outputs": [],
   "source": [
    "g = build_generator(256)"
   ]
  },
  {
   "cell_type": "code",
   "execution_count": null,
   "metadata": {
    "collapsed": true
   },
   "outputs": [],
   "source": [
    "# fname = sorted(glob('params_generator*'))[-1]"
   ]
  },
  {
   "cell_type": "code",
   "execution_count": null,
   "metadata": {
    "collapsed": false
   },
   "outputs": [],
   "source": [
    "fname = '/home/lukedeo/great-gan-256.h5'"
   ]
  },
  {
   "cell_type": "code",
   "execution_count": null,
   "metadata": {
    "collapsed": false
   },
   "outputs": [],
   "source": [
    "g.load_weights(fname)"
   ]
  },
  {
   "cell_type": "code",
   "execution_count": null,
   "metadata": {
    "collapsed": false
   },
   "outputs": [],
   "source": [
    "noise = np.random.normal(0, 1, (1500, 256))\n",
    "sampled_labels = np.random.randint(0, 2, 1500)"
   ]
  },
  {
   "cell_type": "code",
   "execution_count": null,
   "metadata": {
    "collapsed": false
   },
   "outputs": [],
   "source": [
    "# get a batch to display\n",
    "generated_images = g.predict(\n",
    "    [noise, sampled_labels.reshape(-1, 1, 1)], verbose=True, batch_size=128)"
   ]
  },
  {
   "cell_type": "code",
   "execution_count": null,
   "metadata": {
    "collapsed": false
   },
   "outputs": [],
   "source": [
    "generated_images = (generated_images) * 100"
   ]
  },
  {
   "cell_type": "code",
   "execution_count": null,
   "metadata": {
    "collapsed": true
   },
   "outputs": [],
   "source": [
    "# transform (None, 1, 25, 25) => (None, 25, 25)\n",
    "generated_images = np.squeeze(generated_images)"
   ]
  },
  {
   "cell_type": "code",
   "execution_count": null,
   "metadata": {
    "collapsed": false
   },
   "outputs": [],
   "source": [
    "# save some images out for later analysis\n",
    "np.save('/home/micky/scratch/data/gan/gan-images.npy', generated_images)"
   ]
  },
  {
   "cell_type": "code",
   "execution_count": null,
   "metadata": {
    "collapsed": true
   },
   "outputs": [],
   "source": [
    "from matplotlib.colors import LogNorm"
   ]
  },
  {
   "cell_type": "code",
   "execution_count": null,
   "metadata": {
    "collapsed": false
   },
   "outputs": [],
   "source": [
    "im = generated_images[23]\n",
    "plt.imshow(im, interpolation='nearest', norm=LogNorm(vmin=1e-2, vmax=200))\n",
    "plt.colorbar()"
   ]
  },
  {
   "cell_type": "code",
   "execution_count": null,
   "metadata": {
    "collapsed": false
   },
   "outputs": [],
   "source": [
    "plt.imshow(generated_images[sampled_labels == 1].mean(axis=0), interpolation='nearest', norm=LogNorm(vmin=0.00001, vmax=200))\n",
    "plt.colorbar()\n",
    "plt.xlabel(r'[Transformed] Pseudorapidity $(\\eta)$')\n",
    "plt.ylabel(r'[Transformed] Azimuthal Angle $(\\phi)$')\n",
    "plt.title('Average signal jet image')"
   ]
  },
  {
   "cell_type": "code",
   "execution_count": null,
   "metadata": {
    "collapsed": false
   },
   "outputs": [],
   "source": [
    "diff = generated_images[sampled_labels == 1].mean(axis=0) - generated_images[sampled_labels == 0].mean(axis=0)\n",
    "lim = np.max(np.abs(diff))\n",
    "plt.imshow(diff, interpolation='nearest', cmap=cm.seismic, vmax=lim, vmin=-lim, extent=[-1, 1, -1, 1])\n",
    "plt.xlabel(r'[Transformed] Pseudorapidity $(\\eta)$')\n",
    "plt.ylabel(r'[Transformed] Azimuthal Angle $(\\phi)$')\n",
    "plt.title('Difference in mean GAN jet\\nimage between signal and background')\n",
    "plt.colorbar()"
   ]
  },
  {
   "cell_type": "code",
   "execution_count": null,
   "metadata": {
    "collapsed": false
   },
   "outputs": [],
   "source": [
    "diff = real_images[real_labels == 1].mean(axis=0) - real_images[real_labels == 0].mean(axis=0)\n",
    "plt.imshow(diff, interpolation='nearest', cmap=cm.seismic, vmax=lim, vmin=-lim, extent=[-1, 1, -1, 1])\n",
    "plt.xlabel(r'[Transformed] Pseudorapidity $(\\eta)$')\n",
    "plt.ylabel(r'[Transformed] Azimuthal Angle $(\\phi)$')\n",
    "plt.title('Difference in mean real jet \\nimage between signal and background')\n",
    "plt.colorbar()"
   ]
  },
  {
   "cell_type": "code",
   "execution_count": null,
   "metadata": {
    "collapsed": false
   },
   "outputs": [],
   "source": [
    "# plot the mean signal jet\n",
    "plt.imshow(real_images[real_labels == 1].mean(axis=0), interpolation='nearest', norm=LogNorm(vmin=0.00001, vmax=200))\n",
    "plt.colorbar()"
   ]
  },
  {
   "cell_type": "code",
   "execution_count": null,
   "metadata": {
    "collapsed": true
   },
   "outputs": [],
   "source": [
    "# form the grids you need to represent the eta, phi coordinates\n",
    "grid = 0.5 * (np.linspace(-1, 1, 26)[:-1] + np.linspace(-1, 1, 26)[1:])\n",
    "eta = np.tile(grid, (25, 1))\n",
    "phi = np.tile(grid[::-1].reshape(-1, 1), (1, 25))"
   ]
  },
  {
   "cell_type": "code",
   "execution_count": null,
   "metadata": {
    "collapsed": true
   },
   "outputs": [],
   "source": [
    "def discrete_mass(jet_image):\n",
    "    Px = np.sum(jet_image * np.cos(phi), axis=(1, 2))\n",
    "    Py = np.sum(jet_image * np.sin(phi), axis=(1, 2))\n",
    "\n",
    "    Pz = np.sum(jet_image * np.sinh(eta), axis=(1, 2))\n",
    "    E = np.sum(jet_image * np.cosh(eta), axis=(1, 2))\n",
    "\n",
    "    PT2 = np.square(Px) + np.square(Py)\n",
    "    M2 = np.square(E) - (PT2 + np.square(Pz))\n",
    "    M = np.sqrt(M2)\n",
    "    return M\n",
    "\n",
    "def discrete_pt(jet_image):\n",
    "    Px = np.sum(jet_image * np.cos(phi), axis=(1, 2))\n",
    "    Py = np.sum(jet_image * np.sin(phi), axis=(1, 2))\n",
    "\n",
    "    Pz = np.sum(jet_image * np.sinh(eta), axis=(1, 2))\n",
    "    E = np.sum(jet_image * np.cosh(eta), axis=(1, 2))\n",
    "\n",
    "    return np.sqrt(np.square(Px) + np.square(Py))"
   ]
  },
  {
   "cell_type": "code",
   "execution_count": null,
   "metadata": {
    "collapsed": false
   },
   "outputs": [],
   "source": [
    "# plot the mass of the GAN vs the Pythia Jets\n",
    "bins = np.linspace(50, 150, 50)\n",
    "_ = plt.hist(discrete_mass(generated_images[sampled_labels == 1]), \n",
    "             bins=bins, histtype='step', label=r\"generated $m$ ($W' \\rightarrow WZ$)\", normed=True, color='red')\n",
    "_ = plt.hist(discrete_mass(real_images[real_labels == 1]), \n",
    "             bins=bins, histtype='step', label=r\"true $m$ ($W' \\rightarrow WZ$)\", normed=True, color='red', linestyle='dashed')\n",
    "\n",
    "_ = plt.hist(discrete_mass(generated_images[sampled_labels == 0]), \n",
    "             bins=bins, histtype='step', label=r'generated $m$ (QCD dijets)', normed=True, color='blue')\n",
    "_ = plt.hist(discrete_mass(real_images[real_labels == 0]), \n",
    "             bins=bins, histtype='step', label=r'true $m$ (QCD dijets)', normed=True, color='blue', linestyle='dashed')\n",
    "\n",
    "plt.xlabel(r'Discretized $m$ of Jet Image')\n",
    "plt.ylabel(r'Units normalized to unity')\n",
    "plt.legend(prop={'size':10})\n",
    "plt.ylim(0, 0.06)\n",
    "plt.show()"
   ]
  },
  {
   "cell_type": "code",
   "execution_count": null,
   "metadata": {
    "collapsed": false
   },
   "outputs": [],
   "source": [
    "# plot the pT of the GAN vs the Pythia Jets\n",
    "bins = np.linspace(200, 450, 50)\n",
    "_ = plt.hist(discrete_pt(generated_images[sampled_labels == 1]), \n",
    "             bins=bins, histtype='step', label=r\"generated $p_T$ ($W' \\rightarrow WZ$)\", normed=True, color='red')\n",
    "_ = plt.hist(discrete_pt(real_images[real_labels == 1]), \n",
    "             bins=bins, histtype='step', label=r\"true $p_T$ ($W' \\rightarrow WZ$)\", normed=True, color='red', linestyle='dashed')\n",
    "\n",
    "_ = plt.hist(discrete_pt(generated_images[sampled_labels == 0]), \n",
    "             bins=bins, histtype='step', label=r'generated $p_T$ (QCD dijets)', normed=True, color='blue')\n",
    "_ = plt.hist(discrete_pt(real_images[real_labels == 0]), \n",
    "             bins=bins, histtype='step', label=r'true $p_T$ (QCD dijets)', normed=True, color='blue', linestyle='dashed')\n",
    "plt.xlabel(r'Discretized $p_T$ of Jet Image')\n",
    "plt.ylabel(r'Units normalized to unity')\n",
    "plt.legend(loc=2, prop={'size':10})\n",
    "plt.ylim(0, 0.02)\n",
    "plt.show()"
   ]
  },
  {
   "cell_type": "code",
   "execution_count": null,
   "metadata": {
    "collapsed": false
   },
   "outputs": [],
   "source": [
    "# _, bins, _ = plt.hist(real_images.ravel(), bins=np.logspace(-12, 3, 50), log=True, histtype='step', normed=True, label='real')\n",
    "_, bins, _ = plt.hist(real_images.ravel(), bins=np.linspace(0, 500, 50), log=True, histtype='step', normed=True, label='real')\n",
    "_ = plt.hist(generated_images.ravel(), bins=bins, log=True, histtype='step', normed=True, label='fake')\n",
    "# plt.xscale('log')\n",
    "plt.legend()"
   ]
  },
  {
   "cell_type": "code",
   "execution_count": null,
   "metadata": {
    "collapsed": false
   },
   "outputs": [],
   "source": [
    "real_images[0]"
   ]
  },
  {
   "cell_type": "code",
   "execution_count": null,
   "metadata": {
    "collapsed": true
   },
   "outputs": [],
   "source": [
    "np.save('/home/lukedeo/scratch/data/gan/slim.npy', real_jets)"
   ]
  },
  {
   "cell_type": "code",
   "execution_count": null,
   "metadata": {
    "collapsed": false
   },
   "outputs": [],
   "source": [
    "_, bins, _ = plt.hist(real_images.ravel() / 10, bins=np.logspace(-10, 5, 50), log=True, histtype='step', normed=True, label='real')\n",
    "plt.xscale('log')\n",
    "plt.legend()"
   ]
  },
  {
   "cell_type": "code",
   "execution_count": null,
   "metadata": {
    "collapsed": false
   },
   "outputs": [],
   "source": [
    "np.log(real_images + 1e-10).max()"
   ]
  },
  {
   "cell_type": "code",
   "execution_count": null,
   "metadata": {
    "collapsed": false
   },
   "outputs": [],
   "source": [
    "float((real_images.ravel() == 0).sum()) / len(real_images.ravel())"
   ]
  },
  {
   "cell_type": "code",
   "execution_count": null,
   "metadata": {
    "collapsed": false
   },
   "outputs": [],
   "source": [
    "float((generated_images.ravel() == 0).sum()) / len(real_images.ravel())"
   ]
  },
  {
   "cell_type": "code",
   "execution_count": null,
   "metadata": {
    "collapsed": true
   },
   "outputs": [],
   "source": []
  }
 ],
 "metadata": {
  "kernelspec": {
   "display_name": "Python 2",
   "language": "python",
   "name": "python2"
  },
  "language_info": {
   "codemirror_mode": {
    "name": "ipython",
    "version": 2
   },
   "file_extension": ".py",
   "mimetype": "text/x-python",
   "name": "python",
   "nbconvert_exporter": "python",
   "pygments_lexer": "ipython2",
   "version": "2.7.6"
  }
 },
 "nbformat": 4,
 "nbformat_minor": 1
}
